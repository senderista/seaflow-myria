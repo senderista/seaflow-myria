{
 "cells": [
  {
   "cell_type": "code",
   "execution_count": 1,
   "metadata": {
    "collapsed": true
   },
   "outputs": [],
   "source": [
    "% matplotlib inline\n",
    "\n",
    "import numpy as np\n",
    "import pandas as pd\n",
    "from math import *\n",
    "import matplotlib.pyplot as plt\n",
    "from statsmodels.tsa.stattools import acf, ccf\n",
    "from statsmodels.tsa.tsatools import detrend\n",
    "\n",
    "import gsw as sw\n",
    "\n",
    "from mpl_toolkits.basemap import Basemap, cm\n",
    "from netCDF4 import Dataset as NetCDFFile"
   ]
  },
  {
   "cell_type": "code",
   "execution_count": 2,
   "metadata": {
    "collapsed": false
   },
   "outputs": [
    {
     "name": "stdout",
     "output_type": "stream",
     "text": [
      "Index([u'Day', u'LAT', u'LON', u'File_Id', u'T', u'S', u'Cruise'], dtype='object')\n"
     ]
    }
   ],
   "source": [
    "# import data directly from myria\n",
    "\n",
    "fileURL = 'https://rest.myria.cs.washington.edu:1776/dataset/user-armbrustlab/program-seaflow/relation-all_sds_v2/data?format=csv'\n",
    "sds = pd.read_csv(fileURL)\n",
    "sds.rename(columns={'file': 'File_Id', 'day': 'Day'}, inplace=True)\n",
    "print sds.columns\n",
    "\n",
    "rossby = np.fromfile(file, dtype=float, count=-1, sep='')\n",
    "\n",
    "eke = pnp.fromfile(fileURL)\n",
    "ekeX = \n",
    "ekeY = "
   ]
  },
  {
   "cell_type": "code",
   "execution_count": null,
   "metadata": {
    "collapsed": true
   },
   "outputs": [],
   "source": [
    "# correct all lat/lon values for cruise track\n",
    "cxx = (crsub['LON']).values # longitude\n",
    "cyy = (crsub['LAT']).values # latitude\n",
    "\n",
    "# convert all longitude to longitude east\n",
    "cxx[cxx<0]= 360+cxx[cxx<0];\n",
    "cxbew = cxx\n",
    "cxbew[cxbew>180] = cxbew[cxbew>180]-360\n"
   ]
  },
  {
   "cell_type": "code",
   "execution_count": null,
   "metadata": {
    "collapsed": true
   },
   "outputs": [],
   "source": [
    "# correct lat/lon values for EKE estimate\n",
    "\n",
    "# correct lat/lon for rossby radius estimate"
   ]
  },
  {
   "cell_type": "code",
   "execution_count": null,
   "metadata": {
    "collapsed": true
   },
   "outputs": [],
   "source": [
    "# plot the cruise track and EKE and Rossby radius contours\n",
    "\n",
    "fig1 = plt.figure(1, figsize=(15,9))\n",
    "\n",
    "m = Basemap(width=12000000,height=9000000,projection='lcc',\n",
    "            resolution='c',lat_1=15.,lat_2=60,lat_0=45,lon_0=-180.)\n",
    "m.drawcoastlines()\n",
    "m.drawmapboundary(fill_color='white')\n",
    "m.fillcontinents(color='grey',lake_color='white')\n",
    "#plt.axes([0.025, 0.025, 0.95, 0.95])\n",
    "xm, ym = m(cxbew,cyy)\n",
    "\n",
    "# plot the cruise track\n",
    "m.scatter(xm, ym, s=75, c=ctrack, alpha=.5,lw=0)\n",
    "\n",
    "# plot colormap of EKE\n",
    "m.colormap()\n",
    "# plot contours of rossby radius\n",
    "m.contour()\n",
    "\n",
    "m.drawparallels(np.arange(10,90,20),labels=[1,1,0,1])\n",
    "m.drawmeridians(np.arange(-180,180,30),labels=[1,1,0,1])\n",
    "\n",
    "\n",
    "plt.tick_params(axis='both', which='major', labelsize=16)\n",
    "plt.colorbar()\n",
    "plt.show()\n",
    "\n",
    "print cyy.min(); cyy.max()"
   ]
  }
 ],
 "metadata": {
  "kernelspec": {
   "display_name": "Python 2",
   "language": "python",
   "name": "python2"
  },
  "language_info": {
   "codemirror_mode": {
    "name": "ipython",
    "version": 2
   },
   "file_extension": ".py",
   "mimetype": "text/x-python",
   "name": "python",
   "nbconvert_exporter": "python",
   "pygments_lexer": "ipython2",
   "version": "2.7.9"
  }
 },
 "nbformat": 4,
 "nbformat_minor": 0
}
