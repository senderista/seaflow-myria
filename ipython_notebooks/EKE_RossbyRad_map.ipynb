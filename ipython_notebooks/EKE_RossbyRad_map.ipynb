{
 "cells": [
  {
   "cell_type": "code",
   "execution_count": 4,
   "metadata": {
    "collapsed": true
   },
   "outputs": [],
   "source": [
    "% matplotlib inline\n",
    "\n",
    "import numpy as np\n",
    "import pandas as pd\n",
    "from math import *\n",
    "import matplotlib.pyplot as plt\n",
    "from statsmodels.tsa.stattools import acf, ccf\n",
    "from statsmodels.tsa.tsatools import detrend\n",
    "\n",
    "import gsw as sw\n",
    "\n",
    "from mpl_toolkits.basemap import Basemap, cm\n",
    "from netCDF4 import Dataset as NetCDFFile"
   ]
  },
  {
   "cell_type": "code",
   "execution_count": null,
   "metadata": {
    "collapsed": true
   },
   "outputs": [],
   "source": [
    "def myfromfile(file, dtype=float, shape=None, count=-1, skip=-1, skipbytes=0):\n",
    "    zipped = False\n",
    "    if file.endswith('.gz'):\n",
    "        zipped = True\n",
    "    elif os.path.exists(file):\n",
    "        zipped = False\n",
    "    elif os.path.exists(file + '.gz'):\n",
    "        if _debug: print 'myfromfile: reading', file + '.gz'\n",
    "        zipped = True\n",
    "        file = file + '.gz'\n",
    "    else:\n",
    "        # this will most likely raise an IOError\n",
    "        pass\n",
    "\n",
    "    if zipped:\n",
    "        openf = gzip.open\n",
    "    else:\n",
    "        openf = open\n",
    "\n",
    "    countbytes = -1\n",
    "\n",
    "    size = np.dtype(dtype).itemsize\n",
    "    if shape is not None:\n",
    "        size *= np.prod(shape)\n",
    "        if count >= 0:\n",
    "            shape = (count,) + shape\n",
    "        if count >= 0 or skip >= 0 or skipbytes > 0:\n",
    "            count = np.prod(shape)\n",
    "\n",
    "    if skip > 0:\n",
    "        skipbytes += skip*size"
   ]
  },
  {
   "cell_type": "code",
   "execution_count": 13,
   "metadata": {
    "collapsed": false
   },
   "outputs": [
    {
     "name": "stdout",
     "output_type": "stream",
     "text": [
      "Index([u'Day', u'LAT', u'LON', u'File_Id', u'T', u'S', u'Cruise'], dtype='object')\n",
      "Index([u'LAT', u'LON', u'c (m/s)', u'rossrad (km)'], dtype='object')\n"
     ]
    },
    {
     "ename": "AttributeError",
     "evalue": "'numpy.ndarray' object has no attribute 'values'",
     "output_type": "error",
     "traceback": [
      "\u001b[0;31m---------------------------------------------------------------------------\u001b[0m",
      "\u001b[0;31mAttributeError\u001b[0m                            Traceback (most recent call last)",
      "\u001b[0;32m<ipython-input-13-72aed5706226>\u001b[0m in \u001b[0;36m<module>\u001b[0;34m()\u001b[0m\n\u001b[1;32m      9\u001b[0m \u001b[0;32mprint\u001b[0m \u001b[0mrossby\u001b[0m\u001b[0;34m.\u001b[0m\u001b[0mcolumns\u001b[0m\u001b[0;34m\u001b[0m\u001b[0m\n\u001b[1;32m     10\u001b[0m \u001b[0;34m\u001b[0m\u001b[0m\n\u001b[0;32m---> 11\u001b[0;31m \u001b[0meke\u001b[0m \u001b[0;34m=\u001b[0m \u001b[0mnp\u001b[0m\u001b[0;34m.\u001b[0m\u001b[0mfromfile\u001b[0m\u001b[0;34m(\u001b[0m\u001b[0;34m'/Users/archie/Google Drive/satellite_data/model_data/HR2CR_EKE.1999.data'\u001b[0m\u001b[0;34m,\u001b[0m \u001b[0mdtype\u001b[0m\u001b[0;34m=\u001b[0m\u001b[0mfloat\u001b[0m\u001b[0;34m,\u001b[0m \u001b[0mcount\u001b[0m\u001b[0;34m=\u001b[0m\u001b[0;34m-\u001b[0m\u001b[0;36m1\u001b[0m\u001b[0;34m,\u001b[0m \u001b[0msep\u001b[0m\u001b[0;34m=\u001b[0m\u001b[0;34m''\u001b[0m\u001b[0;34m)\u001b[0m\u001b[0;34m.\u001b[0m\u001b[0mvalues\u001b[0m\u001b[0;34m\u001b[0m\u001b[0m\n\u001b[0m\u001b[1;32m     12\u001b[0m \u001b[0mekeX\u001b[0m \u001b[0;34m=\u001b[0m \u001b[0mnp\u001b[0m\u001b[0;34m.\u001b[0m\u001b[0mfromfile\u001b[0m\u001b[0;34m(\u001b[0m\u001b[0;34m'/Users/archie/Google Drive/satellite_data/model_data/XC.data'\u001b[0m\u001b[0;34m,\u001b[0m \u001b[0mdtype\u001b[0m\u001b[0;34m=\u001b[0m\u001b[0mfloat\u001b[0m\u001b[0;34m,\u001b[0m \u001b[0mcount\u001b[0m\u001b[0;34m=\u001b[0m\u001b[0;34m-\u001b[0m\u001b[0;36m1\u001b[0m\u001b[0;34m,\u001b[0m \u001b[0msep\u001b[0m\u001b[0;34m=\u001b[0m\u001b[0;34m''\u001b[0m\u001b[0;34m)\u001b[0m\u001b[0;34m\u001b[0m\u001b[0m\n\u001b[1;32m     13\u001b[0m \u001b[0mekeY\u001b[0m \u001b[0;34m=\u001b[0m \u001b[0mnp\u001b[0m\u001b[0;34m.\u001b[0m\u001b[0mfromfile\u001b[0m\u001b[0;34m(\u001b[0m\u001b[0;34m'/Users/archie/Google Drive/satellite_data/model_data/YC.data'\u001b[0m\u001b[0;34m,\u001b[0m \u001b[0mdtype\u001b[0m\u001b[0;34m=\u001b[0m\u001b[0mfloat\u001b[0m\u001b[0;34m,\u001b[0m \u001b[0mcount\u001b[0m\u001b[0;34m=\u001b[0m\u001b[0;34m-\u001b[0m\u001b[0;36m1\u001b[0m\u001b[0;34m,\u001b[0m \u001b[0msep\u001b[0m\u001b[0;34m=\u001b[0m\u001b[0;34m''\u001b[0m\u001b[0;34m)\u001b[0m\u001b[0;34m\u001b[0m\u001b[0m\n",
      "\u001b[0;31mAttributeError\u001b[0m: 'numpy.ndarray' object has no attribute 'values'"
     ]
    }
   ],
   "source": [
    "# import data directly from myria\n",
    "\n",
    "fileURL = 'https://rest.myria.cs.washington.edu:1776/dataset/user-armbrustlab/program-seaflow/relation-all_sds_v2/data?format=csv'\n",
    "sds = pd.read_csv(fileURL)\n",
    "sds.rename(columns={'file': 'File_Id', 'day': 'Day'}, inplace=True)\n",
    "print sds.columns\n",
    "\n",
    "rossby = pd.read_csv('/Users/archie/Google Drive/satellite_data/rossrad.csv')\n",
    "print rossby.columns\n",
    "\n",
    "eke = np.fromfile('/Users/archie/Google Drive/satellite_data/model_data/HR2CR_EKE.1999.data', dtype=float, count=-1, sep='').values\n",
    "ekeX = np.fromfile('/Users/archie/Google Drive/satellite_data/model_data/XC.data', dtype=float, count=-1, sep='')\n",
    "ekeY = np.fromfile('/Users/archie/Google Drive/satellite_data/model_data/YC.data', dtype=float, count=-1, sep='')\n",
    "\n"
   ]
  },
  {
   "cell_type": "code",
   "execution_count": null,
   "metadata": {
    "collapsed": true
   },
   "outputs": [],
   "source": [
    "# correct all lat/lon values for cruise track\n",
    "cxx = (crsub['LON']).values # longitude\n",
    "cyy = (crsub['LAT']).values # latitude\n",
    "\n",
    "# convert all longitude to longitude east\n",
    "cxx[cxx<0]= 360+cxx[cxx<0];\n",
    "cxbew = cxx\n",
    "cxbew[cxbew>180] = cxbew[cxbew>180]-360\n"
   ]
  },
  {
   "cell_type": "code",
   "execution_count": null,
   "metadata": {
    "collapsed": true
   },
   "outputs": [],
   "source": [
    "# correct lat/lon values for EKE estimate\n",
    "\n",
    "# correct lat/lon for rossby radius estimate"
   ]
  },
  {
   "cell_type": "code",
   "execution_count": null,
   "metadata": {
    "collapsed": true
   },
   "outputs": [],
   "source": [
    "# plot the cruise track and EKE and Rossby radius contours\n",
    "\n",
    "fig1 = plt.figure(1, figsize=(15,9))\n",
    "\n",
    "m = Basemap(width=12000000,height=9000000,projection='lcc',\n",
    "            resolution='c',lat_1=15.,lat_2=60,lat_0=45,lon_0=-180.)\n",
    "m.drawcoastlines()\n",
    "m.drawmapboundary(fill_color='white')\n",
    "m.fillcontinents(color='grey',lake_color='white')\n",
    "#plt.axes([0.025, 0.025, 0.95, 0.95])\n",
    "xm, ym = m(cxbew,cyy)\n",
    "\n",
    "# plot the cruise track\n",
    "m.scatter(xm, ym, s=75, c=ctrack, alpha=.5,lw=0)\n",
    "\n",
    "# plot colormap of EKE\n",
    "m.colormap()\n",
    "# plot contours of rossby radius\n",
    "m.contour()\n",
    "\n",
    "m.drawparallels(np.arange(10,90,20),labels=[1,1,0,1])\n",
    "m.drawmeridians(np.arange(-180,180,30),labels=[1,1,0,1])\n",
    "\n",
    "\n",
    "plt.tick_params(axis='both', which='major', labelsize=16)\n",
    "plt.colorbar()\n",
    "plt.show()\n",
    "\n",
    "print cyy.min(); cyy.max()"
   ]
  }
 ],
 "metadata": {
  "kernelspec": {
   "display_name": "Python 2",
   "language": "python",
   "name": "python2"
  },
  "language_info": {
   "codemirror_mode": {
    "name": "ipython",
    "version": 2
   },
   "file_extension": ".py",
   "mimetype": "text/x-python",
   "name": "python",
   "nbconvert_exporter": "python",
   "pygments_lexer": "ipython2",
   "version": "2.7.9"
  }
 },
 "nbformat": 4,
 "nbformat_minor": 0
}
