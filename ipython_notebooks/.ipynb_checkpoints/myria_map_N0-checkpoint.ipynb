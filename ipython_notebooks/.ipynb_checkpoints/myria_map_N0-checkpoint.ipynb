{
 "metadata": {
  "name": "",
  "signature": "sha256:af0ec1b7991714f40dac23fcdacec6cd1dd9226c2674ccdc39fa967c17ba0425"
 },
 "nbformat": 3,
 "nbformat_minor": 0,
 "worksheets": [
  {
   "cells": [
    {
     "cell_type": "code",
     "collapsed": false,
     "input": [
      "% matplotlib inline\n",
      "\n",
      "import numpy as np\n",
      "import pandas as pd\n",
      "import matplotlib.pyplot as plt\n",
      "\n",
      "from mpl_toolkits.basemap import Basemap, cm\n",
      "from netCDF4 import Dataset as NetCDFFile"
     ],
     "language": "python",
     "metadata": {},
     "outputs": [],
     "prompt_number": 16
    },
    {
     "cell_type": "code",
     "collapsed": false,
     "input": [
      "# import data directly from myria\n",
      "\n",
      "# myria query:\n",
      "# beads_TS = SELECT b.fsc_avg, t.LAT, t.LON\n",
      "# FROM SCAN(armbrustlab:seaflow:bead_stats_v4_byfile_untrans) AS b,\n",
      "# SCAN(armbrustlab:seaflow:all_sds_v2) AS t          \n",
      "# WHERE b.Cruise = t.Cruise AND b.Day = t.day AND INT(b.File_Id) = t.file;\n",
      "# STORE(beads_TS,armbrustlab:seaflow:beads_LATLON);\n",
      "\n",
      "fileURL = 'https://rest.myria.cs.washington.edu:1776/dataset/user-armbrustlab/program-seaflow/relation-diversity_TS_scaled_max/data?format=csv'\n",
      "result = pd.read_csv(fileURL)\n",
      "print(result.columns)"
     ],
     "language": "python",
     "metadata": {},
     "outputs": [
      {
       "output_type": "stream",
       "stream": "stdout",
       "text": [
        "Index([N0, H, J, T, S, LON, LAT], dtype=object)\n"
       ]
      }
     ],
     "prompt_number": 17
    },
    {
     "cell_type": "code",
     "collapsed": false,
     "input": [
      "# plot the mean bead fsc_small value in space\n",
      "# the data\n",
      "\n",
      "# pick which variable to plot\n",
      "\n",
      "value = 'H'\n",
      "x = (result['LON']).values # longitude\n",
      "y = (result['LAT']).values # latitude\n",
      "z = (result[value]).values # bead attribute\n",
      "\n",
      "# convert all longitude to longitude east\n",
      "x[x<0]= 360+x[x<0];\n",
      "\n",
      "xew = x\n",
      "xew[xew>180] = xew[xew>180]-360\n",
      "\n",
      "print(max(x))"
     ],
     "language": "python",
     "metadata": {},
     "outputs": [
      {
       "output_type": "stream",
       "stream": "stdout",
       "text": [
        "179.992\n"
       ]
      }
     ],
     "prompt_number": 27
    },
    {
     "cell_type": "code",
     "collapsed": false,
     "input": [
      "fig1 = plt.figure(1, figsize=(15,9))\n",
      "\n",
      "m = Basemap(width=12000000,height=9000000,projection='lcc',\n",
      "            resolution='c',lat_1=15.,lat_2=60,lat_0=45,lon_0=-180.)\n",
      "m.drawcoastlines()\n",
      "m.drawmapboundary(fill_color='white')\n",
      "m.fillcontinents(color='grey',lake_color='white')\n",
      "#plt.axes([0.025, 0.025, 0.95, 0.95])\n",
      "xm, ym = m(xew,y)\n",
      "m.scatter(xm, ym, s=75, c=z, alpha=.5)\n",
      "\n",
      "m.drawparallels(np.arange(10,90,20),labels=[1,1,0,1])\n",
      "m.drawmeridians(np.arange(-180,180,30),labels=[1,1,0,1])\n",
      "\n",
      "cb = plt.colorbar(shrink=.92)\n",
      "cb.set_label(label=value,fontsize=16)\n",
      "\n",
      "plt.tick_params(axis='both', which='major', labelsize=16)\n",
      "\n",
      "plt.show()"
     ],
     "language": "python",
     "metadata": {},
     "outputs": []
    },
    {
     "cell_type": "code",
     "collapsed": false,
     "input": [],
     "language": "python",
     "metadata": {},
     "outputs": [],
     "prompt_number": 19
    }
   ],
   "metadata": {}
  }
 ]
}