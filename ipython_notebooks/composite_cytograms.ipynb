{
 "metadata": {
  "name": "",
  "signature": "sha256:125168acab6a430af39f95df460cee35ea7403e5edff8fac69096da6c7720a2c"
 },
 "nbformat": 3,
 "nbformat_minor": 0,
 "worksheets": [
  {
   "cells": [
    {
     "cell_type": "code",
     "collapsed": false,
     "input": [
      "% matplotlib inline\n",
      "\n",
      "import numpy as np\n",
      "import pandas as pd\n",
      "from math import *\n",
      "import matplotlib.pyplot as plt\n",
      "\n",
      "from mpl_toolkits.basemap import Basemap, cm\n",
      "from netCDF4 import Dataset as NetCDFFile"
     ],
     "language": "python",
     "metadata": {},
     "outputs": [],
     "prompt_number": 2
    },
    {
     "cell_type": "code",
     "collapsed": false,
     "input": [
      "# import data directly from myria\n",
      "# binned cytograms by cruise in fsc/chl space\n",
      "\n",
      "fileURL = 'https://rest.myria.cs.washington.edu:1776/dataset/user-armbrustlab/program-seaflow/relation-binned_phyto_32bins_ChlFsc_byCruise/data?format=csv'\n",
      "result = pd.read_csv(fileURL)\n",
      "print(result.columns)\n"
     ],
     "language": "python",
     "metadata": {},
     "outputs": [
      {
       "output_type": "stream",
       "stream": "stdout",
       "text": [
        "Index([u'Cruise', u'fsc_bin', u'chl_bin', u'num_p'], dtype='object')\n"
       ]
      }
     ],
     "prompt_number": 3
    },
    {
     "cell_type": "code",
     "collapsed": false,
     "input": [
      "# sort the data by cruise, chl_bin and fsc_bin\n",
      "sorted_ = result.sort(['Cruise', 'fsc_bin', 'chl_bin'], ascending=[1, 1, 1])\n"
     ],
     "language": "python",
     "metadata": {},
     "outputs": [
      {
       "output_type": "stream",
       "stream": "stdout",
       "text": [
        "[['CMOP_3' -14 -5 1]\n",
        " ['CMOP_3' -14 -4 6]\n",
        " ['CMOP_3' -14 -3 3]\n",
        " ['CMOP_3' -14 -2 2]\n",
        " ['CMOP_3' -14 0 1]\n",
        " ['CMOP_3' -13 -5 4]\n",
        " ['CMOP_3' -13 -4 3]\n",
        " ['CMOP_3' -13 -3 12]\n",
        " ['CMOP_3' -13 -2 6]\n",
        " ['CMOP_3' -13 -1 3]]\n",
        "20100218\n"
       ]
      }
     ],
     "prompt_number": 18
    },
    {
     "cell_type": "code",
     "collapsed": false,
     "input": [
      "# create the axes for fsc and chl\n",
      "\n",
      "a_min = -2**16\n",
      "a_max = 2**16\n",
      "nbins = 32\n",
      "a_step = a_max/nbins*2\n",
      "c_range = np.linspace(a_min,a_max,nbins,endpoint=False)\n"
     ],
     "language": "python",
     "metadata": {},
     "outputs": [],
     "prompt_number": 1
    }
   ],
   "metadata": {}
  }
 ]
}