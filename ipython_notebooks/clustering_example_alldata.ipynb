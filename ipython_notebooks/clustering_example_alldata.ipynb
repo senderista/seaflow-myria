{
 "cells": [
  {
   "cell_type": "code",
   "execution_count": 1,
   "metadata": {
    "collapsed": true
   },
   "outputs": [],
   "source": [
    "% matplotlib inline\n",
    "\n",
    "import numpy as np\n",
    "import pandas as pd\n",
    "from math import *\n",
    "import matplotlib.pyplot as plt\n",
    "from matplotlib.ticker import MultipleLocator, FormatStrFormatter\n",
    "from matplotlib import cm\n",
    "from palettable.colorbrewer.diverging import RdBu_4\n",
    "\n",
    "import gsw as sw\n",
    "\n",
    "from mpl_toolkits.basemap import Basemap, cm\n",
    "from netCDF4 import Dataset as NetCDFFile"
   ]
  },
  {
   "cell_type": "code",
   "execution_count": null,
   "metadata": {
    "collapsed": false
   },
   "outputs": [],
   "source": [
    "# import flow cytometry data directly from myria\n",
    "fileURL1 = 'https://rest.myria.cs.washington.edu:1776/dataset/user-armbrustlab/program-seaflow/relation-particle_stats_byfile/data?format=csv'\n",
    "result = pd.read_csv(fileURL1)\n",
    "\n",
    "# load in the SDS data so that we can look at clusters in T/S space and \"real\" space\n",
    "# also want to get seasons/months of year for each file\n",
    "fileURL2 = 'https://rest.myria.cs.washington.edu:1776/dataset/user-armbrustlab/program-seaflow/relation-all_sds_v2/data?format=csv'\n",
    "sds = pd.read_csv(fileURL2)\n",
    "sds.rename(columns={'file': 'File_Id', 'day': 'Day'}, inplace=True)\n",
    "\n",
    "# join sds dataframe to cluster results\n",
    "new_table = pd.merge(sds, result, how=\"inner\")\n",
    "\n",
    "# select the subset of variables to cluster over\n",
    "X = new_table[['fsc_avg','chl_avg','pe_avg','fsc_var','chl_var','pe_var']].values  \n",
    "#X = new_table[['fsc_avg','chl_avg','pe_avg']].values  \n"
   ]
  },
  {
   "cell_type": "code",
   "execution_count": null,
   "metadata": {
    "collapsed": false
   },
   "outputs": [],
   "source": [
    "# plot the data to see if it seems to fall into particular clusters right off the bat\n",
    "\n",
    "from palettable.colorbrewer.sequential import YlOrRd_9\n",
    "\n",
    "fig1 = plt.figure(1, figsize=(15,9))\n",
    "plt.hist2d(result['fsc_avg'],result['chl_avg'],bins=100, cmap=YlOrRd_9.mpl_colormap, cmin=10, cmax=290)\n",
    "plt.xlabel('fsc_avg')\n",
    "plt.ylabel('chl_avg')\n",
    "plt.colorbar()\n",
    "plt.show()"
   ]
  },
  {
   "cell_type": "code",
   "execution_count": null,
   "metadata": {
    "collapsed": false
   },
   "outputs": [],
   "source": [
    "# try hierarchical clustering on the data\n",
    "# do not have to specify number of clusters\n",
    "\n",
    "from scipy.cluster.vq import kmeans,vq\n",
    "from scipy.spatial.distance import cdist, pdist\n",
    "\n",
    "# Start by estimating optimal number of clusters\n",
    "# uses method from this stack overflow post: \n",
    "# http://stackoverflow.com/questions/6645895/calculating-the-percentage-of-variance-measure-for-k-means\n",
    "K = range(1,40)\n",
    "\n",
    "# scipy.cluster.vq.kmeans\n",
    "KM = [kmeans(X,k) for k in K]\n",
    "centroids = [cent for (cent,var) in KM]   # cluster centroids\n",
    "#avgWithinSS = [var for (cent,var) in KM] # mean within-cluster sum of squares\n",
    "\n",
    "# alternative: scipy.spatial.distance.cdist\n",
    "D_k = [cdist(X, cent, 'euclidean') for cent in centroids]\n",
    "cIdx = [np.argmin(D,axis=1) for D in D_k]\n",
    "dist = [np.min(D,axis=1) for D in D_k]\n",
    "#avgWithinSS = [sum(d)/X.shape[0] for d in dist]\n",
    "tot_withinss = [sum(d**2) for d in dist]  # Total within-cluster sum of squares\n",
    "totss = sum(pdist(X)**2)/X.shape[0]       # The total sum of squares\n",
    "betweenss = totss - tot_withinss          # The between-cluster sum of squares\n"
   ]
  },
  {
   "cell_type": "code",
   "execution_count": null,
   "metadata": {
    "collapsed": false
   },
   "outputs": [],
   "source": [
    "# The elbow curve gives an idea of the number of clusters needed to explain the variance in the data.\n",
    "\n",
    "##### plot ###\n",
    "kIdx = 9\n",
    "\n",
    "# elbow curve\n",
    "fig2 = plt.figure(2, figsize=(15,9))\n",
    "ax = fig2.add_subplot(111)\n",
    "ax.plot(K, betweenss/totss*100, 'b*-')\n",
    "ax.plot(K[kIdx], betweenss[kIdx]/totss*100, marker='o', markersize=12, \n",
    "    markeredgewidth=2, markeredgecolor='r', markerfacecolor='None')\n",
    "ax.set_ylim((0,100))\n",
    "plt.grid(True)\n",
    "plt.xlabel('Number of clusters')\n",
    "plt.ylabel('Percentage of variance explained (%)')\n",
    "plt.title('Elbow for KMeans clustering')\n",
    "\n",
    "ax.xaxis.set_major_locator(MultipleLocator(5))\n",
    "ax.xaxis.set_major_formatter(FormatStrFormatter('%d'))\n",
    "ax.xaxis.set_minor_locator(MultipleLocator(1))\n",
    "\n",
    "ax.yaxis.set_major_locator(MultipleLocator(20))\n",
    "ax.yaxis.set_minor_locator(MultipleLocator(5))\n",
    "\n",
    "ax.xaxis.grid(True,'minor')\n",
    "ax.yaxis.grid(True,'minor')\n",
    "ax.xaxis.grid(True,'major',linewidth=2)\n",
    "ax.yaxis.grid(True,'major',linewidth=2)\n",
    "plt.show()"
   ]
  },
  {
   "cell_type": "code",
   "execution_count": null,
   "metadata": {
    "collapsed": false
   },
   "outputs": [],
   "source": [
    "# scatter plot\n",
    "from mpl_toolkits.mplot3d import Axes3D\n",
    "\n",
    "fig3 = plt.figure(5, figsize=(9,9))\n",
    "ax = Axes3D(fig3)\n",
    "#ax.scatter(X[:,2],X[:,1], s=30, c=cIdx[k])\n",
    "clr = plt.cm.spectral( np.linspace(0,1,kIdx+1) ).tolist()\n",
    "for i in range(K[kIdx]):\n",
    "    ind = (cIdx[kIdx]==i)\n",
    "    ax.scatter(X[ind,0],X[ind,2],X[ind,1], s=30, c=clr[i], alpha = 0.75, label='Cluster %d'%(i+1), edgecolor='black', linewidth=0.15)\n",
    "plt.grid(True)\n",
    "ax.set_xlabel('fsc_avg')\n",
    "ax.set_ylabel('pe_avg')  \n",
    "ax.set_zlabel('chl_avg')\n",
    "plt.legend()\n",
    "plt.show()"
   ]
  }
 ],
 "metadata": {
  "kernelspec": {
   "display_name": "Python 2",
   "language": "python",
   "name": "python2"
  },
  "language_info": {
   "codemirror_mode": {
    "name": "ipython",
    "version": 2
   },
   "file_extension": ".py",
   "mimetype": "text/x-python",
   "name": "python",
   "nbconvert_exporter": "python",
   "pygments_lexer": "ipython2",
   "version": "2.7.9"
  }
 },
 "nbformat": 4,
 "nbformat_minor": 0
}
