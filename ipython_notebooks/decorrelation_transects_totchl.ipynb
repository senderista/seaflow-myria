{
 "cells": [
  {
   "cell_type": "code",
   "execution_count": 4,
   "metadata": {
    "collapsed": true
   },
   "outputs": [],
   "source": [
    "% matplotlib inline\n",
    "\n",
    "import numpy as np\n",
    "import pandas as pd\n",
    "from math import *\n",
    "import matplotlib.pyplot as plt\n",
    "from statsmodels.tsa.stattools import acf\n",
    "\n",
    "import gsw as sw\n",
    "\n",
    "from mpl_toolkits.basemap import Basemap, cm\n",
    "from netCDF4 import Dataset as NetCDFFile"
   ]
  },
  {
   "cell_type": "code",
   "execution_count": 5,
   "metadata": {
    "collapsed": true
   },
   "outputs": [],
   "source": [
    "def indices(a, func):\n",
    "    return [i for (i, val) in enumerate(a) if func(val)]"
   ]
  },
  {
   "cell_type": "code",
   "execution_count": 6,
   "metadata": {
    "collapsed": false
   },
   "outputs": [
    {
     "name": "stdout",
     "output_type": "stream",
     "text": [
      "Index([u'tot_chl', u'Cruise', u'Day', u'File_Id'], dtype='object')\n",
      "Index([u'Day', u'LAT', u'LON', u'File_Id', u'T', u'S', u'Cruise'], dtype='object')\n"
     ]
    }
   ],
   "source": [
    "# import data directly from myria\n",
    "\n",
    "fileURL = 'https://rest.myria.cs.washington.edu:1776/dataset/user-armbrustlab/program-seaflow/relation-tot_chl_byfile/data?format=csv'\n",
    "result = pd.read_csv(fileURL)\n",
    "# pick out the subset of variables to use for clustering/PCA\n",
    "print result.columns\n",
    "\n",
    "fileURL = 'https://rest.myria.cs.washington.edu:1776/dataset/user-armbrustlab/program-seaflow/relation-all_sds_v2/data?format=csv'\n",
    "sds = pd.read_csv(fileURL)\n",
    "sds.rename(columns={'file': 'File_Id', 'day': 'Day'}, inplace=True)\n",
    "print sds.columns\n"
   ]
  },
  {
   "cell_type": "code",
   "execution_count": 7,
   "metadata": {
    "collapsed": false
   },
   "outputs": [
    {
     "name": "stdout",
     "output_type": "stream",
     "text": [
      "(69235, 7)\n"
     ]
    }
   ],
   "source": [
    "# join sds dataframe to opp file averages\n",
    "\n",
    "print sds.shape\n",
    "#print type(sds), type(cIdx[9])\n",
    "#new_table = pd.merge(sds, result, how=\"inner\")\n",
    "new_table = pd.merge(sds, result, how=\"inner\")\n",
    "\n",
    "\n",
    "#X = new_table[['fsc_avg','chl_avg','pe_avg','fsc_var','chl_var','pe_var']].values  \n",
    "X = new_table[['tot_chl']].values "
   ]
  },
  {
   "cell_type": "code",
   "execution_count": 63,
   "metadata": {
    "collapsed": false
   },
   "outputs": [
    {
     "name": "stdout",
     "output_type": "stream",
     "text": [
      "1.31809837483\n",
      "1.39471233332\n"
     ]
    }
   ],
   "source": [
    "# identify continuous transects\n",
    "# start by just picking out cruises that we know fit the bill\n",
    "\n",
    "# look at how the clusters relate to physical properties of the water column...\n",
    "\n",
    "cr = 'Thompson_1'\n",
    "crsub = new_table[(new_table['Cruise']==cr)].sort(['Day','File_Id'],ascending=[1,1])\n",
    "crsub['density'] = sw.rho(crsub['S'].values,crsub['T'].values,0)\n",
    "\n",
    "cxx = (crsub['LON']).values # longitude\n",
    "cyy = (crsub['LAT']).values # latitude\n",
    "\n",
    "# convert all longitude to longitude east\n",
    "cxx[cxx<0]= 360+cxx[cxx<0];\n",
    "cxbew = cxx\n",
    "cxbew[cxbew>180] = cxbew[cxbew>180]-360\n",
    "\n",
    "# calculate distance between points\n",
    "cdistance = sw.distance(cxbew,cyy, 0)[0]\n",
    "ctrack = np.cumsum(cdistance)\n",
    "ctrack = np.insert(ctrack, 0, 0)\n"
   ]
  },
  {
   "cell_type": "code",
   "execution_count": 81,
   "metadata": {
    "collapsed": false
   },
   "outputs": [
    {
     "name": "stdout",
     "output_type": "stream",
     "text": [
      "124.330841079\n",
      "1.31809837483 0.819075028234\n",
      "1.24845750829 0.555650023703\n"
     ]
    }
   ],
   "source": [
    "# \"continuous\" tracks of data are found between 63:950 952:1015 1017:1371\n",
    "# now turn these into 3 separate datasets, track1, track2 and track3\n",
    "# check the lemgth of these tracks\n",
    "\n",
    "t1 = ctrack[950]-ctrack[63] #1169km long\n",
    "t2 = ctrack[1015]-ctrack[952] #124km long\n",
    "t3 = ctrack[1371]-ctrack[1017] #442km long\n",
    "\n",
    "# split the subset into tracks\n",
    "t1sub = crsub.iloc[63:950]\n",
    "t3sub = crsub.iloc[1017:1371]\n",
    "\n",
    "# split the tracks\n",
    "t1track = ctrack[63:950]-ctrack[63]\n",
    "t2track = ctrack[1017:1371]-ctrack[1017]\n",
    "\n",
    "\n",
    "# check the effective resolution for the tracks\n",
    "print cdistance[63:950].mean()/1000, cdistance[63:950].std()/1000\n",
    "print cdistance[1017:1371].mean()/1000, cdistance[1017:1371].std()/1000\n",
    "\n"
   ]
  },
  {
   "cell_type": "code",
   "execution_count": 78,
   "metadata": {
    "collapsed": false
   },
   "outputs": [
    {
     "data": {
      "image/png": "[encoded data removed]",
      "text/plain": [
       "<matplotlib.figure.Figure at 0x1126d9b50>"
      ]
     },
     "metadata": {},
     "output_type": "display_data"
    }
   ],
   "source": [
    "plt.plot(cdistance[1016:1371]/1000,'x')\n",
    "plt.show()"
   ]
  },
  {
   "cell_type": "code",
   "execution_count": null,
   "metadata": {
    "collapsed": true
   },
   "outputs": [],
   "source": []
  }
 ],
 "metadata": {
  "kernelspec": {
   "display_name": "Python 2",
   "language": "python",
   "name": "python2"
  },
  "language_info": {
   "codemirror_mode": {
    "name": "ipython",
    "version": 2
   },
   "file_extension": ".py",
   "mimetype": "text/x-python",
   "name": "python",
   "nbconvert_exporter": "python",
   "pygments_lexer": "ipython2",
   "version": "2.7.10"
  }
 },
 "nbformat": 4,
 "nbformat_minor": 0
}
