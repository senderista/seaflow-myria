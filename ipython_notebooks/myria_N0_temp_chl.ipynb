{
 "metadata": {
  "name": "",
  "signature": "sha256:5013a27879809fdd50b2e6b6c0b212cd7b6b1f973af954e9d1ab8cf9ad5a63a8"
 },
 "nbformat": 3,
 "nbformat_minor": 0,
 "worksheets": [
  {
   "cells": [
    {
     "cell_type": "code",
     "collapsed": false,
     "input": [
      "% matplotlib inline\n",
      "\n",
      "import numpy as np\n",
      "from math import *\n",
      "import pandas as pd\n",
      "import matplotlib.pyplot as plt\n",
      "\n",
      "from mpl_toolkits.basemap import Basemap, cm\n",
      "from netCDF4 import Dataset as NetCDFFile"
     ],
     "language": "python",
     "metadata": {},
     "outputs": [],
     "prompt_number": 1
    },
    {
     "cell_type": "code",
     "collapsed": false,
     "input": [
      "# import data directly from myria\n",
      "\n",
      "# myria query:\n",
      "# beads_TS = SELECT b.fsc_avg, t.LAT, t.LON\n",
      "# FROM SCAN(armbrustlab:seaflow:bead_stats_v4_byfile_untrans) AS b,\n",
      "# SCAN(armbrustlab:seaflow:all_sds_v2) AS t          \n",
      "# WHERE b.Cruise = t.Cruise AND b.Day = t.day AND INT(b.File_Id) = t.file;\n",
      "# STORE(beads_TS,armbrustlab:seaflow:beads_LATLON);\n",
      "\n",
      "fileURL = 'https://rest.myria.cs.washington.edu:1776/dataset/user-armbrustlab/program-seaflow/relation-div_chl_sds/data?format=csv'\n",
      "result = pd.read_csv(fileURL)\n",
      "print(result.columns)"
     ],
     "language": "python",
     "metadata": {},
     "outputs": [
      {
       "output_type": "stream",
       "stream": "stdout",
       "text": [
        "Index([u'N0', u'H', u'J', u'tot_chl', u'T', u'S', u'LON', u'LAT', u'day', u'Cruise', u'file'], dtype='object')\n"
       ]
      }
     ],
     "prompt_number": 2
    },
    {
     "cell_type": "code",
     "collapsed": false,
     "input": [
      "# plot the mean bead fsc_small value in space\n",
      "# the data\n",
      "\n",
      "# pick the variable you want to plot\n",
      "value = 'H'\n",
      "value2 = 'T'\n",
      "\n",
      "x = (result['LON']).values # longitude\n",
      "y = (result['LAT']).values # latitude\n",
      "z = (result[value]).values # bead attribute\n",
      "zz = (result[value2]).values \n",
      "\n",
      "# convert all longitude to longitude east\n",
      "x[x<0]= 360+x[x<0];\n",
      "\n",
      "print(max(x))"
     ],
     "language": "python",
     "metadata": {},
     "outputs": []
    },
    {
     "cell_type": "code",
     "collapsed": false,
     "input": [
      "fig1 = plt.figure(1, figsize=(12, 8))\n",
      "\n",
      "plt.axes([0.025, 0.025, 0.95, 0.95])\n",
      "plt.plot(zz,z, 'o')\n",
      "\n",
      "plt.xlabel(value2,fontsize=16)\n",
      "plt.ylabel(value,fontsize=16)\n",
      "\n",
      "plt.tick_params(axis='both', which='major', labelsize=14)\n",
      "\n",
      "plt.show()"
     ],
     "language": "python",
     "metadata": {},
     "outputs": []
    },
    {
     "cell_type": "code",
     "collapsed": false,
     "input": [
      "# bin the data into bins of 1 degree latitude and calculate average and standard deviation in each bin\n",
      "\n",
      "data = y;\n",
      "\n",
      "bins = np.arange(4,ceil(max(zz)),1)\n",
      "bin_count = np.zeros(len(bins)-1)\n",
      "digitized = np.digitize(data, bins)\n",
      "bin_count = [np.shape(z[digitized == i])[0] for i in range(1, len(bins))]\n",
      "\n",
      "bin_means = [z[digitized == i].mean() for i in range(1, len(bins))]\n",
      "bin_sderr = [z[digitized == i].std() for i in range(1, len(bins))]/np.sqrt(bin_count) # standard error\n"
     ],
     "language": "python",
     "metadata": {},
     "outputs": []
    },
    {
     "cell_type": "code",
     "collapsed": false,
     "input": [
      "bin_points = bins[0:len(bins)-1]+0.5\n",
      "\n",
      "fig2 = plt.figure(2, figsize=(12,8))\n",
      "plt.axes([0.025, 0.025, 0.95, 0.95])\n",
      "\n",
      "plt.plot(bin_points,bin_means,'k-')\n",
      "plt.fill_between(lats,np.asarray(bin_means)-np.asarray(bin_sderr),np.asarray(bin_means)+np.asarray(bin_sderr),facecolor='grey')\n",
      "\n",
      "plt.xlabel(value2,fontsize=14)\n",
      "plt.ylabel(value,fontsize=14)\n",
      "\n",
      "plt.tick_params(axis='both', which='major', labelsize=14)\n",
      "plt.show()\n"
     ],
     "language": "python",
     "metadata": {},
     "outputs": []
    },
    {
     "cell_type": "code",
     "collapsed": false,
     "input": [],
     "language": "python",
     "metadata": {},
     "outputs": []
    }
   ],
   "metadata": {}
  }
 ]
}