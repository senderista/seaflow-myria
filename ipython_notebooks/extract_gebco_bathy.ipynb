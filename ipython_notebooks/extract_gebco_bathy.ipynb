{
 "metadata": {
  "name": "",
  "signature": "sha256:f22d1c38334f15ca929d6d6ddd3e0de24a6540741c09602d30fca668f1dd7d2c"
 },
 "nbformat": 3,
 "nbformat_minor": 0,
 "worksheets": [
  {
   "cells": [
    {
     "cell_type": "code",
     "collapsed": false,
     "input": [
      "# this is liberally based on an ipynb by rsignell\n",
      "# https://github.com/rsignell-usgs/notebook/blob/master/gebco_plot.ipynb\n",
      "\n",
      "import netCDF4\n",
      "import numpy as np"
     ],
     "language": "python",
     "metadata": {},
     "outputs": [],
     "prompt_number": 1
    },
    {
     "cell_type": "code",
     "collapsed": false,
     "input": [
      "# Load data\n",
      "bath = netCDF4.Dataset('../../aux_data/bathymetry/GRIDONE_1D.nc')\n",
      "\n",
      "# Extract variables\n",
      "x = bath.variables['x_range']\n",
      "y = bath.variables['y_range']\n",
      "spacing = bath.variables['spacing']\n",
      "\n",
      "# Compute Lat/Lon\n",
      "nx = (x[-1]-x[0])/spacing[0]   # num pts in x-dir\n",
      "nx = 21601 # from GEBCO website\n",
      "ny = (y[-1]-y[0])/spacing[1]   # num pts in y-dir\n",
      "ny = 10801 # from GEBCO website\n",
      "\n",
      "lon = np.linspace(x[0],x[-1],nx)\n",
      "lat = np.array(np.linspace(y[0],y[-1],ny))\n",
      "\n",
      "# Reshape data\n",
      "zz = bath.variables['z']\n",
      "Z = zz[:].reshape(ny, nx)\n",
      "x,y = np.meshgrid(lon,lat)\n"
     ],
     "language": "python",
     "metadata": {},
     "outputs": [],
     "prompt_number": 8
    }
   ],
   "metadata": {}
  }
 ]
}