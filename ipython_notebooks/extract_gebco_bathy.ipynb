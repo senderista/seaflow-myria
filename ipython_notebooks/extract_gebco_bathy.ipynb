{
 "metadata": {
  "name": "",
  "signature": "sha256:c885551ed51b68a54f034b9c40dc384327cb600473033799e0d2b555a5e2225d"
 },
 "nbformat": 3,
 "nbformat_minor": 0,
 "worksheets": [
  {
   "cells": [
    {
     "cell_type": "code",
     "collapsed": false,
     "input": [
      "# this is liberally based on an ipynb by rsignell\n",
      "# https://github.com/rsignell-usgs/notebook/blob/master/gebco_plot.ipynb\n",
      "\n",
      "import netCDF4\n",
      "import numpy as np\n",
      "import pandas as pd"
     ],
     "language": "python",
     "metadata": {},
     "outputs": [],
     "prompt_number": 2
    },
    {
     "cell_type": "code",
     "collapsed": false,
     "input": [
      "# Load data\n",
      "bath = netCDF4.Dataset('../../aux_data/bathymetry/GRIDONE_1D.nc')\n",
      "\n",
      "# Extract variables\n",
      "x = bath.variables['x_range']\n",
      "y = bath.variables['y_range']\n",
      "spacing = bath.variables['spacing']\n",
      "\n",
      "# Compute Lat/Lon\n",
      "nx = (x[-1]-x[0])/spacing[0]   # num pts in x-dir\n",
      "nx = 21601 # from GEBCO website\n",
      "ny = (y[-1]-y[0])/spacing[1]   # num pts in y-dir\n",
      "ny = 10801 # from GEBCO website\n",
      "\n",
      "lon = np.linspace(x[0],x[-1],nx)\n",
      "lat = np.array(np.linspace(y[0],y[-1],ny))\n",
      "\n",
      "# Reshape data\n",
      "zz = bath.variables['z']\n",
      "Z = zz[:].reshape(ny, nx)\n",
      "x,y = np.meshgrid(lon,lat)\n",
      "\n",
      "\n",
      "print(out[0,:])"
     ],
     "language": "python",
     "metadata": {},
     "outputs": [
      {
       "output_type": "stream",
       "stream": "stdout",
       "text": [
        "[ -180.   -90. -4227.]\n"
       ]
      }
     ],
     "prompt_number": 18
    },
    {
     "cell_type": "code",
     "collapsed": false,
     "input": [
      "# save as a .csv file to upload to myria\n",
      "headers = ['lon', 'lat', 'z']\n",
      "out = np.asarray([x.flatten(), y.flatten(), Z.flatten()]).conj().transpose()\n",
      "df = pd.DataFrame(out, columns=headers)\n",
      "\n",
      "# still need to fix this!!!\n",
      "df.toCSV(\"../../aux_data/gebco_bathymetry.csv\", out, sep=\",\")\n"
     ],
     "language": "python",
     "metadata": {},
     "outputs": [
      {
       "ename": "AttributeError",
       "evalue": "'DataFrame' object has no attribute 'toCSV'",
       "output_type": "pyerr",
       "traceback": [
        "\u001b[0;31m---------------------------------------------------------------------------\u001b[0m\n\u001b[0;31mAttributeError\u001b[0m                            Traceback (most recent call last)",
        "\u001b[0;32m<ipython-input-23-7846d160d245>\u001b[0m in \u001b[0;36m<module>\u001b[0;34m()\u001b[0m\n\u001b[1;32m      4\u001b[0m \u001b[0mdf\u001b[0m \u001b[0;34m=\u001b[0m \u001b[0mpd\u001b[0m\u001b[0;34m.\u001b[0m\u001b[0mDataFrame\u001b[0m\u001b[0;34m(\u001b[0m\u001b[0mout\u001b[0m\u001b[0;34m,\u001b[0m \u001b[0mcolumns\u001b[0m\u001b[0;34m=\u001b[0m\u001b[0mheaders\u001b[0m\u001b[0;34m)\u001b[0m\u001b[0;34m\u001b[0m\u001b[0m\n\u001b[1;32m      5\u001b[0m \u001b[0;34m\u001b[0m\u001b[0m\n\u001b[0;32m----> 6\u001b[0;31m \u001b[0mdf\u001b[0m\u001b[0;34m.\u001b[0m\u001b[0mtoCSV\u001b[0m\u001b[0;34m(\u001b[0m\u001b[0;34m\"../../aux_data/gebco_bathymetry.csv\"\u001b[0m\u001b[0;34m,\u001b[0m \u001b[0mout\u001b[0m\u001b[0;34m,\u001b[0m \u001b[0msep\u001b[0m\u001b[0;34m=\u001b[0m\u001b[0;34m\",\"\u001b[0m\u001b[0;34m)\u001b[0m\u001b[0;34m\u001b[0m\u001b[0m\n\u001b[0m",
        "\u001b[0;32m/Users/sclayton/anaconda/lib/python2.7/site-packages/pandas/core/generic.pyc\u001b[0m in \u001b[0;36m__getattr__\u001b[0;34m(self, name)\u001b[0m\n\u001b[1;32m   1841\u001b[0m                 \u001b[0;32mreturn\u001b[0m \u001b[0mself\u001b[0m\u001b[0;34m[\u001b[0m\u001b[0mname\u001b[0m\u001b[0;34m]\u001b[0m\u001b[0;34m\u001b[0m\u001b[0m\n\u001b[1;32m   1842\u001b[0m             raise AttributeError(\"'%s' object has no attribute '%s'\" %\n\u001b[0;32m-> 1843\u001b[0;31m                                  (type(self).__name__, name))\n\u001b[0m\u001b[1;32m   1844\u001b[0m \u001b[0;34m\u001b[0m\u001b[0m\n\u001b[1;32m   1845\u001b[0m     \u001b[0;32mdef\u001b[0m \u001b[0m__setattr__\u001b[0m\u001b[0;34m(\u001b[0m\u001b[0mself\u001b[0m\u001b[0;34m,\u001b[0m \u001b[0mname\u001b[0m\u001b[0;34m,\u001b[0m \u001b[0mvalue\u001b[0m\u001b[0;34m)\u001b[0m\u001b[0;34m:\u001b[0m\u001b[0;34m\u001b[0m\u001b[0m\n",
        "\u001b[0;31mAttributeError\u001b[0m: 'DataFrame' object has no attribute 'toCSV'"
       ]
      }
     ],
     "prompt_number": 23
    },
    {
     "cell_type": "code",
     "collapsed": false,
     "input": [
      "# upload to myria database"
     ],
     "language": "python",
     "metadata": {},
     "outputs": []
    }
   ],
   "metadata": {}
  }
 ]
}