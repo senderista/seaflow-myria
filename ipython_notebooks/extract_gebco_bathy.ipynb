{
 "metadata": {
  "name": "",
  "signature": "sha256:151316b3c718a73f6ce86e41385d479fd67265d61b4c886d018c68723fc367cc"
 },
 "nbformat": 3,
 "nbformat_minor": 0,
 "worksheets": [
  {
   "cells": [
    {
     "cell_type": "code",
     "collapsed": false,
     "input": [
      "# this is liberally based on an ipynb by rsignell\n",
      "# https://github.com/rsignell-usgs/notebook/blob/master/gebco_plot.ipynb\n",
      "\n",
      "import netCDF4\n",
      "from mpl_toolkits.basemap import Basemap"
     ],
     "language": "python",
     "metadata": {},
     "outputs": []
    },
    {
     "cell_type": "code",
     "collapsed": false,
     "input": [
      "# Load data\n",
      "bath = netCDF4.Dataset('../../aux_data/bathymetry/...nc')\n",
      "\n",
      "# Extract variables\n",
      "x = dataset.variables['x_range']\n",
      "y = dataset.variables['y_range']\n",
      "spacing = dataset.variables['spacing']\n",
      "\n",
      "# Compute Lat/Lon\n",
      "nx = (x[-1]-x[0])/spacing[0]   # num pts in x-dir\n",
      "nx = 21601 # from GEBCO website\n",
      "ny = (y[-1]-y[0])/spacing[1]   # num pts in y-dir\n",
      "ny = 10801 # from GEBCO website\n",
      "\n",
      "lon = np.linspace(x[0],x[-1],nx)\n",
      "lat = np.linspace(y[0],y[-1],ny)\n",
      "\n",
      "# Reshape data\n",
      "zz = dataset.variables['z']\n",
      "Z = zz[:].reshape(ny, nx)\n"
     ],
     "language": "python",
     "metadata": {},
     "outputs": []
    },
    {
     "cell_type": "code",
     "collapsed": false,
     "input": [],
     "language": "python",
     "metadata": {},
     "outputs": []
    }
   ],
   "metadata": {}
  }
 ]
}