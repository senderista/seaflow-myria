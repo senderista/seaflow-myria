{
 "metadata": {
  "name": "",
  "signature": "sha256:cbfa04a4f029b5ca24163c5ef0e1f611ee796434ec47fbc3c867c239da3d9da9"
 },
 "nbformat": 3,
 "nbformat_minor": 0,
 "worksheets": [
  {
   "cells": [
    {
     "cell_type": "code",
     "collapsed": false,
     "input": [
      "# this is liberally based on an ipynb by rsignell\n",
      "# https://github.com/rsignell-usgs/notebook/blob/master/gebco_plot.ipynb\n",
      "\n",
      "import netCDF4\n",
      "import numpy as np\n",
      "import pandas as pd"
     ],
     "language": "python",
     "metadata": {},
     "outputs": [],
     "prompt_number": 1
    },
    {
     "cell_type": "code",
     "collapsed": false,
     "input": [
      "# Load data\n",
      "bath = netCDF4.Dataset('../../aux_data/bathymetry/GRIDONE_1D.nc')\n",
      "\n",
      "# Extract variables\n",
      "x = bath.variables['x_range']\n",
      "y = bath.variables['y_range']\n",
      "spacing = bath.variables['spacing']\n",
      "\n",
      "# Compute Lat/Lon\n",
      "nx = (x[-1]-x[0])/spacing[0]   # num pts in x-dir\n",
      "nx = 21601 # from GEBCO website\n",
      "ny = (y[-1]-y[0])/spacing[1]   # num pts in y-dir\n",
      "ny = 10801 # from GEBCO website\n",
      "\n",
      "lon = np.linspace(x[0],x[-1],nx)\n",
      "lat = np.array(np.linspace(y[0],y[-1],ny))\n",
      "\n",
      "# Reshape data\n",
      "zz = bath.variables['z']\n",
      "Z = zz[:].reshape(ny, nx)\n",
      "x,y = np.meshgrid(lon,lat)\n"
     ],
     "language": "python",
     "metadata": {},
     "outputs": [],
     "prompt_number": 2
    },
    {
     "cell_type": "code",
     "collapsed": false,
     "input": [
      "# save as a .csv file to upload to myria\n",
      "headers = ['lon', 'lat', 'z']\n",
      "out = np.asarray([x.flatten(), y.flatten(), Z.flatten()]).conj().transpose()\n",
      "df = pd.DataFrame(out, columns=headers)\n",
      "\n",
      "print(df.columns)"
     ],
     "language": "python",
     "metadata": {},
     "outputs": [
      {
       "output_type": "stream",
       "stream": "stdout",
       "text": [
        "Index([u'lon', u'lat', u'z'], dtype='object')\n"
       ]
      }
     ],
     "prompt_number": 3
    },
    {
     "cell_type": "code",
     "collapsed": false,
     "input": [
      "# write out to a csv file\n",
      "df.to_csv(\"../../aux_data/gebco_bathymetry.csv\", sep=',')\n"
     ],
     "language": "python",
     "metadata": {},
     "outputs": [],
     "prompt_number": 7
    },
    {
     "cell_type": "code",
     "collapsed": false,
     "input": [
      "# upload to myria database\n",
      "# myria_upload --user armbrustlab --program seaflow --relation gebco_bathy gebco_bathymetry.csv"
     ],
     "language": "python",
     "metadata": {},
     "outputs": []
    }
   ],
   "metadata": {}
  }
 ]
}